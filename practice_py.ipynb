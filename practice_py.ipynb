{
  "nbformat": 4,
  "nbformat_minor": 0,
  "metadata": {
    "colab": {
      "provenance": [],
      "authorship_tag": "ABX9TyPPqRHJCFlIloV36nvRXUc8",
      "include_colab_link": true
    },
    "kernelspec": {
      "name": "python3",
      "display_name": "Python 3"
    },
    "language_info": {
      "name": "python"
    }
  },
  "cells": [
    {
      "cell_type": "markdown",
      "metadata": {
        "id": "view-in-github",
        "colab_type": "text"
      },
      "source": [
        "<a href=\"https://colab.research.google.com/github/VishalArya123/PythonPractice/blob/main/practice_py.ipynb\" target=\"_parent\"><img src=\"https://colab.research.google.com/assets/colab-badge.svg\" alt=\"Open In Colab\"/></a>"
      ]
    },
    {
      "cell_type": "code",
      "execution_count": null,
      "metadata": {
        "colab": {
          "base_uri": "https://localhost:8080/"
        },
        "id": "WD9Oauc_l0-K",
        "outputId": "172b3dc1-168d-4a4e-9ab2-5f3b8abeb3dd"
      },
      "outputs": [
        {
          "output_type": "stream",
          "name": "stdout",
          "text": [
            "Hello World\n",
            "Hello \"kt4ggwhgshvgh\" World\n",
            "11234AHEFGWIE!!!\n",
            "(2+8j)\n",
            "A\n",
            "H\n",
            "E\n",
            "F\n",
            "G\n",
            "W\n",
            "I\n",
            "E\n",
            "!\n",
            "!\n",
            "!\n",
            "Length is 11\n",
            "AHEFGW\n",
            "AHEFGW\n",
            "AHEFGWIE!!!\n",
            "AHEFGWI\n",
            "True\n"
          ]
        }
      ],
      "source": [
        "print(\"Hello World\")\n",
        "print(\"Hello \\\"kt4ggwhgshvgh\\\" World\")\n",
        "a=11234\n",
        "b=\"AHEFGWIE!!!\"\n",
        "print(str(a)+b)\n",
        "a=complex(2,8)\n",
        "print(a)\n",
        "for i in b:\n",
        "  print(i)\n",
        "print(\"Length is\",len(b))\n",
        "print(b[0:6])\n",
        "print(b[:6])\n",
        "print(b[:])\n",
        "print(b[0:-4])\n",
        "print(b.endswith(\"!!!\"))"
      ]
    },
    {
      "cell_type": "code",
      "source": [
        "import numpy"
      ],
      "metadata": {
        "id": "08yIq0M4CB2B"
      },
      "execution_count": null,
      "outputs": []
    },
    {
      "cell_type": "code",
      "source": [],
      "metadata": {
        "id": "LM4xF3KBCNwg"
      },
      "execution_count": null,
      "outputs": []
    }
  ]
}